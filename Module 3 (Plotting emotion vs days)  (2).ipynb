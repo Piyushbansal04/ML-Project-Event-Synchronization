{
 "cells": [
  {
   "cell_type": "code",
   "execution_count": 1,
   "id": "2d51e235",
   "metadata": {},
   "outputs": [],
   "source": [
    "import requests\n",
    "from bs4 import BeautifulSoup\n",
    "import matplotlib.pyplot as plt\n",
    "import numpy as np\n",
    "import pandas as pd\n",
    "import nltk\n",
    "from nltk.stem import WordNetLemmatizer\n",
    "import csv\n",
    "import re"
   ]
  },
  {
   "cell_type": "code",
   "execution_count": 2,
   "id": "634ca3dd",
   "metadata": {},
   "outputs": [],
   "source": [
    "import requests\n",
    "from bs4 import BeautifulSoup\n",
    "from nltk.stem import WordNetLemmatizer\n",
    "import nltk\n",
    "\n",
    "def get_keywords(year, month, day, event):\n",
    "    if month == 3:\n",
    "        day += 43890\n",
    "    elif month == 4:\n",
    "        day += 43921\n",
    "    else:\n",
    "        day += 43951\n",
    "\n",
    "    url = f\"https://timesofindia.indiatimes.com/2020/{month}/{day}/archivelist/year-{year},month-{month},starttime-{day}.cms\"\n",
    "    page_request = requests.get(url)\n",
    "    data = page_request.content\n",
    "    soup = BeautifulSoup(data, \"html.parser\")\n",
    "\n",
    "    news_divs = soup.find_all('div', style=\"font-family:arial ;font-size:12;font-weight:bold; color: #006699\")\n",
    "\n",
    "    news_links = []\n",
    "    for div in news_divs:\n",
    "        links = div.find_all('a')\n",
    "        for link in links:\n",
    "            news_links.append(link.get('href'))\n",
    "    matching_links = []\n",
    "\n",
    "    for link in news_links:\n",
    "        if event in link:\n",
    "            matching_links.append(link)\n",
    "\n",
    "    all_keywords = set()\n",
    "\n",
    "    for url in matching_links:\n",
    "        response = requests.get(url)\n",
    "        html_content = response.content\n",
    "\n",
    "        soup = BeautifulSoup(html_content, 'html.parser')\n",
    "\n",
    "        meta_tag = soup.find('meta', attrs={'name': 'keywords'})\n",
    "\n",
    "        if meta_tag and 'content' in meta_tag.attrs:\n",
    "            keywords = meta_tag['content'].split(',')\n",
    "            all_keywords.update(keywords)\n",
    "\n",
    "    nltk.download('wordnet')\n",
    "    lemmatizer = WordNetLemmatizer()\n",
    "    lemmatized_keywords = {lemmatizer.lemmatize(keyword) for keyword in all_keywords}\n",
    "    lemmatizer = WordNetLemmatizer()\n",
    "    keyword_list = list(all_keywords)\n",
    "    lemmatized_keywords = [lemmatizer.lemmatize(keyword) for keyword in keyword_list]\n",
    "    filtered_keywords = [keyword for keyword in lemmatized_keywords if len(keyword) >= 3]\n",
    "\n",
    "    return filtered_keywords"
   ]
  },
  {
   "cell_type": "code",
   "execution_count": 6,
   "id": "247ff8f1",
   "metadata": {},
   "outputs": [],
   "source": [
    "def calculate_emotion(date, month, emotion, event):\n",
    "    emotion = emotion.lower()\n",
    "#     csv_file_path = f\"/Users/PIYUSH/Desktop/{month}/{date}_labelled.csv\"\n",
    "    csv_file_path = f\"C:/Users/PIYUSH/Desktop/time series/{date}_labelled.csv\"\n",
    "    \n",
    "#     \"C:\\Users\\PIYUSH\\Desktop\\time series\\2020-04-05_labelled.csv\"\n",
    "    \n",
    "    emotion_numbers = [] \n",
    "    \n",
    "    data_list = []\n",
    "    \n",
    "    with open(csv_file_path, mode='r', newline='', encoding='utf-8') as csv_file:\n",
    "        reader = csv.DictReader(csv_file)\n",
    "        for row in reader:\n",
    "            data_list.append(row)\n",
    "            \n",
    "    for data in data_list:\n",
    "        if re.findall(event, data[\"content\"], flags=re.IGNORECASE):\n",
    "            emotion_numbers.append(float(data[emotion])) \n",
    "            \n",
    "    return emotion_numbers\n",
    "\n",
    "def calculate_emotion_for_date(date,emotion,year,month,day):\n",
    "    total_emotion_numbers = [] \n",
    "    keywords = get_keywords(year, month, day, \"candle\")\n",
    "\n",
    "    for i in keywords:\n",
    "        emotion_numbers = calculate_emotion(date,4, emotion, i)  \n",
    "        total_emotion_numbers.extend(emotion_numbers)  \n",
    "    if (len(total_emotion_numbers)==0):\n",
    "        return 0\n",
    "    average_emotion_number = sum(total_emotion_numbers) / len(total_emotion_numbers)\n",
    "    return average_emotion_number"
   ]
  },
  {
   "cell_type": "code",
   "execution_count": 7,
   "id": "5cb308db",
   "metadata": {},
   "outputs": [
    {
     "name": "stdout",
     "output_type": "stream",
     "text": [
      "Year: 2020\n",
      "Month: 4\n",
      "Day: 5\n",
      "Emotion: joy\n"
     ]
    },
    {
     "name": "stderr",
     "output_type": "stream",
     "text": [
      "[nltk_data] Downloading package wordnet to\n",
      "[nltk_data]     C:\\Users\\PIYUSH\\AppData\\Roaming\\nltk_data...\n",
      "[nltk_data]   Package wordnet is already up-to-date!\n"
     ]
    }
   ],
   "source": [
    "year = int(input(\"Year: \"))\n",
    "month = int(input(\"Month: \"))\n",
    "day = int(input(\"Day: \"))\n",
    "emotion = input(\"Emotion: \")\n",
    "\n",
    "emotion_score = calculate_emotion_for_date(\"2020-04-05\", emotion, year,month,day)"
   ]
  },
  {
   "cell_type": "code",
   "execution_count": 8,
   "id": "6b0ac7fc",
   "metadata": {},
   "outputs": [
    {
     "name": "stdout",
     "output_type": "stream",
     "text": [
      "0.43052620203147535\n"
     ]
    }
   ],
   "source": [
    "print(emotion_score)"
   ]
  },
  {
   "cell_type": "code",
   "execution_count": 9,
   "id": "2e2be323",
   "metadata": {},
   "outputs": [],
   "source": [
    "#Summarizing what I have done uptil now:\n",
    "''' \n",
    "(1) generate all the keywords.\n",
    "(2) calculating emotion score for each day, for a corresponding emotion.\n",
    "'''\n",
    "\n",
    "#What should be my next steps?\n",
    "''' \n",
    "(1) generating the emotion_score for each between (LI, HI).\n",
    "(2) store it in list\n",
    "(3) plot the graph\n",
    "'''\n",
    "del_t = 14"
   ]
  },
  {
   "cell_type": "code",
   "execution_count": 10,
   "id": "ad0ad0a6",
   "metadata": {},
   "outputs": [
    {
     "name": "stdout",
     "output_type": "stream",
     "text": [
      "Year: 2020\n",
      "Month: 4\n",
      "Day: 5\n",
      "Emotion: joy\n"
     ]
    },
    {
     "name": "stderr",
     "output_type": "stream",
     "text": [
      "[nltk_data] Downloading package wordnet to\n",
      "[nltk_data]     C:\\Users\\PIYUSH\\AppData\\Roaming\\nltk_data...\n",
      "[nltk_data]   Package wordnet is already up-to-date!\n",
      "[nltk_data] Downloading package wordnet to\n",
      "[nltk_data]     C:\\Users\\PIYUSH\\AppData\\Roaming\\nltk_data...\n",
      "[nltk_data]   Package wordnet is already up-to-date!\n",
      "[nltk_data] Downloading package wordnet to\n",
      "[nltk_data]     C:\\Users\\PIYUSH\\AppData\\Roaming\\nltk_data...\n",
      "[nltk_data]   Package wordnet is already up-to-date!\n",
      "[nltk_data] Downloading package wordnet to\n",
      "[nltk_data]     C:\\Users\\PIYUSH\\AppData\\Roaming\\nltk_data...\n",
      "[nltk_data]   Package wordnet is already up-to-date!\n",
      "[nltk_data] Downloading package wordnet to\n",
      "[nltk_data]     C:\\Users\\PIYUSH\\AppData\\Roaming\\nltk_data...\n",
      "[nltk_data]   Package wordnet is already up-to-date!\n",
      "[nltk_data] Downloading package wordnet to\n",
      "[nltk_data]     C:\\Users\\PIYUSH\\AppData\\Roaming\\nltk_data...\n",
      "[nltk_data]   Package wordnet is already up-to-date!\n",
      "[nltk_data] Downloading package wordnet to\n",
      "[nltk_data]     C:\\Users\\PIYUSH\\AppData\\Roaming\\nltk_data...\n",
      "[nltk_data]   Package wordnet is already up-to-date!\n",
      "[nltk_data] Downloading package wordnet to\n",
      "[nltk_data]     C:\\Users\\PIYUSH\\AppData\\Roaming\\nltk_data...\n",
      "[nltk_data]   Package wordnet is already up-to-date!\n",
      "[nltk_data] Downloading package wordnet to\n",
      "[nltk_data]     C:\\Users\\PIYUSH\\AppData\\Roaming\\nltk_data...\n",
      "[nltk_data]   Package wordnet is already up-to-date!\n",
      "[nltk_data] Downloading package wordnet to\n",
      "[nltk_data]     C:\\Users\\PIYUSH\\AppData\\Roaming\\nltk_data...\n",
      "[nltk_data]   Package wordnet is already up-to-date!\n",
      "[nltk_data] Downloading package wordnet to\n",
      "[nltk_data]     C:\\Users\\PIYUSH\\AppData\\Roaming\\nltk_data...\n",
      "[nltk_data]   Package wordnet is already up-to-date!\n",
      "[nltk_data] Downloading package wordnet to\n",
      "[nltk_data]     C:\\Users\\PIYUSH\\AppData\\Roaming\\nltk_data...\n",
      "[nltk_data]   Package wordnet is already up-to-date!\n",
      "[nltk_data] Downloading package wordnet to\n",
      "[nltk_data]     C:\\Users\\PIYUSH\\AppData\\Roaming\\nltk_data...\n",
      "[nltk_data]   Package wordnet is already up-to-date!\n",
      "[nltk_data] Downloading package wordnet to\n",
      "[nltk_data]     C:\\Users\\PIYUSH\\AppData\\Roaming\\nltk_data...\n",
      "[nltk_data]   Package wordnet is already up-to-date!\n",
      "[nltk_data] Downloading package wordnet to\n",
      "[nltk_data]     C:\\Users\\PIYUSH\\AppData\\Roaming\\nltk_data...\n",
      "[nltk_data]   Package wordnet is already up-to-date!\n"
     ]
    },
    {
     "data": {
      "image/png": "[encoded data removed]",
      "text/plain": [
       "<Figure size 640x480 with 1 Axes>"
      ]
     },
     "metadata": {},
     "output_type": "display_data"
    }
   ],
   "source": [
    "if(del_t==29):\n",
    "    days_HI = [-14,-13,-12,-11,-10,-9,-8,-7,-6,-5,-4,-3,-2,-1,0,1,2,3,4,5,6,7,8,9,10,11,12,13,14]\n",
    "    emotion_HI = [0,0,0,0,0,0,0,0,0,0,0,0,0,0,0,0,0,0,0,0,0,0,0,0,0,0,0,0,0]\n",
    "    \n",
    "    plt.xlabel(\"Days\")\n",
    "    plt.ylabel(\"Emotion - joy\")\n",
    "    plt.plot(days_HI, emotion_HI)\n",
    "\n",
    "else:\n",
    "    days_LI = [-7,-6,-5,-4,-3,-2,-1,0,1,2,3,4,5,6,7]\n",
    "    emotion_LI = [0,0,0,0,0,0,0,0,0,0,0,0,0,0,0]\n",
    "    start = 0\n",
    "    end = len(emotion_LI)-1\n",
    "    mid = int((start+end)/2)\n",
    "    year = int(input(\"Year: \"))\n",
    "    month = int(input(\"Month: \"))\n",
    "    day = int(input(\"Day: \"))\n",
    "    emotion = input(\"Emotion: \")\n",
    "    \n",
    "    emotion_LI[mid] = calculate_emotion_for_date(\"2020-04-05\", emotion, year,month,day)\n",
    "    emotion_LI[mid-1] = calculate_emotion_for_date(\"2020-04-04\",emotion,year,month,4)\n",
    "    emotion_LI[mid-2] = calculate_emotion_for_date(\"2020-04-03\",emotion,year,month,3)\n",
    "    emotion_LI[mid-3] = calculate_emotion_for_date(\"2020-04-02\",emotion,year,month,2)\n",
    "    emotion_LI[mid-4] = calculate_emotion_for_date(\"2020-04-01\",emotion,year,month,1)\n",
    "    month = 3\n",
    "    emotion_LI[mid-5] = calculate_emotion_for_date(\"2020-03-31\",emotion,year,month,31)\n",
    "    emotion_LI[mid-6] = calculate_emotion_for_date(\"2020-03-30\",emotion,year,month,30)\n",
    "    emotion_LI[mid-7] = calculate_emotion_for_date(\"2020-03-29\",emotion,year,month,29)\n",
    "    month = 4\n",
    "    emotion_LI[mid+1] = calculate_emotion_for_date(\"2020-04-06\",emotion,year,month,6)\n",
    "    emotion_LI[mid+2] = calculate_emotion_for_date(\"2020-04-07\",emotion,year,month,7)\n",
    "    emotion_LI[mid+3] = calculate_emotion_for_date(\"2020-04-08\",emotion,year,month,8)\n",
    "    emotion_LI[mid+4] = calculate_emotion_for_date(\"2020-04-09\",emotion,year,month,9)\n",
    "    emotion_LI[mid+5] = calculate_emotion_for_date(\"2020-04-10\",emotion,year,month,10)\n",
    "    emotion_LI[mid+6] = calculate_emotion_for_date(\"2020-04-11\",emotion,year,month,11)\n",
    "    emotion_LI[mid+7] = calculate_emotion_for_date(\"2020-04-12\",emotion,year,month,12)\n",
    "#     print(emotion_LI)\n",
    "    \n",
    "    plt.xlabel(\"Days\")\n",
    "    plt.ylabel(\"Emotion\")\n",
    "    plt.plot(days_LI, emotion_LI, 'ro-')\n",
    "    plt.xticks(range(-7, 8))\n",
    "    plt.show()"
   ]
  },
  {
   "cell_type": "code",
   "execution_count": null,
   "id": "9e50d3ba",
   "metadata": {},
   "outputs": [],
   "source": []
  }
 ],
 "metadata": {
  "kernelspec": {
   "display_name": "Python 3 (ipykernel)",
   "language": "python",
   "name": "python3"
  },
  "language_info": {
   "codemirror_mode": {
    "name": "ipython",
    "version": 3
   },
   "file_extension": ".py",
   "mimetype": "text/x-python",
   "name": "python",
   "nbconvert_exporter": "python",
   "pygments_lexer": "ipython3",
   "version": "3.9.13"
  }
 },
 "nbformat": 4,
 "nbformat_minor": 5
}
